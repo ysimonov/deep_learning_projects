{
 "cells": [
  {
   "cell_type": "code",
   "execution_count": 43,
   "metadata": {},
   "outputs": [],
   "source": [
    "import numpy as np\n",
    "from numpy.typing import ArrayLike\n",
    "import warnings"
   ]
  },
  {
   "cell_type": "code",
   "execution_count": 44,
   "metadata": {},
   "outputs": [],
   "source": [
    "warnings.filterwarnings('ignore')\n",
    "def sigmoid(z):\n",
    "    return 1.0 / (1.0 + np.exp(-z))"
   ]
  },
  {
   "cell_type": "code",
   "execution_count": 45,
   "metadata": {},
   "outputs": [],
   "source": [
    "def int_to_one_hot(y: ArrayLike, num_labels: int):\n",
    "    ary = np.zeros((y.shape[0], num_labels))\n",
    "    for i, val in enumerate(y):\n",
    "        ary[i, val] = 1\n",
    "    return ary"
   ]
  },
  {
   "cell_type": "code",
   "execution_count": 46,
   "metadata": {},
   "outputs": [],
   "source": [
    "class NeuralNetMPL:\n",
    "    def __init__(\n",
    "        self,\n",
    "        num_features: int,\n",
    "        num_hidden: int,\n",
    "        num_classes: int,\n",
    "        random_seed: int = 123\n",
    "    ):\n",
    "        \"\"\"\n",
    "            Initialize the weight matrices and bias vectors for the hidden and output layer \n",
    "        \"\"\"\n",
    "        self.num_classes = num_classes\n",
    "        \n",
    "        # hidden layer\n",
    "        rng = np.random.RandomState(random_seed)\n",
    "        self.weight_h = rng.normal(\n",
    "            loc=0.0,\n",
    "            scale=0.1,\n",
    "            size=(num_hidden, num_features)\n",
    "        )\n",
    "        self.bias_h = np.zeros(num_hidden)\n",
    "\n",
    "        # output\n",
    "        self.weight_out = rng.normal(\n",
    "            loc=0.0,\n",
    "            scale=0.1,\n",
    "            size=(num_classes, num_hidden)\n",
    "        )\n",
    "        self.bias_out = np.zeros(num_classes)\n",
    "\n",
    "    def forward(self, x):\n",
    "        \"\"\"\n",
    "            Take in one or more training examples and return the predictions\n",
    "            (activation values from the hidden and output layers)\n",
    "        \"\"\"\n",
    "\n",
    "        # Hidden layer\n",
    "        # Input dim: [n_hidden, n_features]\n",
    "        # Weight dim: [n_features, n_examples].T\n",
    "        # Output dim: [n_examples, n_hidden]\n",
    "        z_h = np.dot(x, self.weight_h.T) + self.bias_h\n",
    "        a_h = sigmoid(z_h)\n",
    "\n",
    "        # Output layer\n",
    "        # Input Dim: [n_classes, n_hidden]\n",
    "        # Weight Dim: [n_hidden, n_examples]\n",
    "        # Output Dim: [n_examples, n_classes] \n",
    "        z_out = np.dot(a_h, self.weight_out.T) + self.bias_out\n",
    "        a_out = sigmoid(z_out)\n",
    "\n",
    "        return a_h, a_out\n",
    "\n",
    "    def backward(self, x, a_h, a_out, y):\n",
    "        \"\"\"\n",
    "            This method updates the weight and bias parameters of the neural network\n",
    "            with backpropagation method\n",
    "        \"\"\"\n",
    "\n",
    "        # one-hot encoding\n",
    "        y_one_hot = int_to_one_hot(y, self.num_classes)\n",
    "\n",
    "        ''' Part 1: dLoss / dOutWeights '''\n",
    "        # dLoss / dOutWeights = dLoss / dOutAct * dOutAct / dOutNet * dOutNet / dOutWeight\n",
    "        # where DeltaOut = dOutAct / dOutNet * dOutNet / dOutWeight\n",
    "\n",
    "        # input / output dim: [n_examples, n_classes]\n",
    "        d_loss__d_a_out = 2.0 * (a_out - y_one_hot) / y.shape[0]\n",
    "\n",
    "        # input / output dim: [n_examples, n_classes]\n",
    "        d_a_out__d_z_out = a_out * (1.0 - a_out) # sigmoid derivative\n",
    "\n",
    "        # output_dim: [n_examples, n_classes]\n",
    "        delta_out = d_loss__d_a_out * d_a_out__d_z_out\n",
    "\n",
    "        # gradient for output weights [n_examples, n_hidden]\n",
    "        d_z_out__dw_out = a_h\n",
    "\n",
    "        # Input Dim: [n_classes, n_examples]\n",
    "        # Weight Dim: [n_examples, n_hidden]\n",
    "        # Output Dim: [n_classes, n_hidden]\n",
    "        d_loss__dw_out = np.dot(delta_out.T, d_z_out__dw_out)\n",
    "        d_loss__db_out = np.sum(delta_out, axis=0)\n",
    "\n",
    "        ''' Part 2: dLoss / dHiddenWeights '''\n",
    "        # dLoss / dHiddenWeights = DeltaOut * dOutNet / dHiddenAct * dHiddenAct / dHiddenNet * dHiddenNet / dWeight\n",
    "\n",
    "        # [n_classes, n_hidden]\n",
    "        d_z_out__a_h = self.weight_out\n",
    "\n",
    "        # output dim: [n_examples, n_hidden]\n",
    "        d_loss__a_h = np.dot(delta_out, d_z_out__a_h)\n",
    "\n",
    "        # [n_examples, n_hidden]\n",
    "        d_a_h__d_z_h = a_h * (1.0 - a_h) # sigmoid derivative\n",
    "\n",
    "        # [n_examples, n_features]\n",
    "        d_z_h__d_w_h = x\n",
    "\n",
    "        # output dim: [n_hidden, n_features]\n",
    "        d_loss__d_w_h = np.dot((d_loss__a_h * d_a_h__d_z_h).T, d_z_h__d_w_h)\n",
    "        d_loss__d_b_h = np.sum((d_loss__a_h * d_a_h__d_z_h), axis=0)\n",
    "\n",
    "        return (d_loss__dw_out, d_loss__db_out,\n",
    "                d_loss__d_w_h, d_loss__d_b_h)"
   ]
  },
  {
   "cell_type": "code",
   "execution_count": 47,
   "metadata": {},
   "outputs": [],
   "source": [
    "model = NeuralNetMPL(\n",
    "    num_features=28*28, # image dimension in pixels\n",
    "    num_hidden=50,  # number of nodes in hidden layer\n",
    "    num_classes=10  # number of digits 0 - 9\n",
    ")"
   ]
  },
  {
   "cell_type": "code",
   "execution_count": 48,
   "metadata": {},
   "outputs": [],
   "source": [
    "# training loop\n",
    "num_epochs = 50\n",
    "minibatch_size = 100\n",
    "\n",
    "def minibatch_generator(X, y, minibatch_size):\n",
    "    indices = np.arange(X.shape[0])\n",
    "    np.random.shuffle(indices)\n",
    "    for start_idx in range(0, indices.shape[0] - minibatch_size + 1, minibatch_size):\n",
    "        batch_idx = indices[start_idx: start_idx + minibatch_size]\n",
    "        yield X[batch_idx], y[batch_idx]"
   ]
  },
  {
   "cell_type": "code",
   "execution_count": 49,
   "metadata": {},
   "outputs": [
    {
     "data": {
      "image/png": "[encoded data removed]",
      "text/plain": [
       "<Figure size 432x288 with 10 Axes>"
      ]
     },
     "metadata": {},
     "output_type": "display_data"
    }
   ],
   "source": [
    "from sklearn.datasets import fetch_openml\n",
    "import matplotlib.pyplot as plt\n",
    "\n",
    "X, y = fetch_openml('mnist_784', version=1, return_X_y=True)\n",
    "X = X.values\n",
    "y = y.astype(int).values\n",
    "\n",
    "X_norm = ((X / 255.0) - 0.5) * 2 # normalize between -1 and 1\n",
    "\n",
    "# Plot data\n",
    "fig, ax = plt.subplots(nrows=2, ncols=5, sharex=True, sharey=True)\n",
    "ax = ax.flatten()\n",
    "for i in range(10):\n",
    "    img = X_norm[y == i][0].reshape(28, 28)\n",
    "    ax[i].imshow(img, cmap='Greys')\n",
    "ax[0].set_xticks([])\n",
    "ax[0].set_yticks([])\n",
    "plt.tight_layout()\n",
    "plt.show()"
   ]
  },
  {
   "cell_type": "code",
   "execution_count": 50,
   "metadata": {},
   "outputs": [
    {
     "data": {
      "image/png": "[encoded data removed]",
      "text/plain": [
       "<Figure size 432x288 with 50 Axes>"
      ]
     },
     "metadata": {},
     "output_type": "display_data"
    }
   ],
   "source": [
    "# plot examples of the same digit\n",
    "nclasses = 10\n",
    "nrows = 5\n",
    "ncols = 10\n",
    "total_digits = nrows * ncols\n",
    "\n",
    "fig, ax = plt.subplots(\n",
    "    nrows=nrows,\n",
    "    ncols=ncols,\n",
    "    sharex=True,\n",
    "    sharey=True\n",
    ")\n",
    "ax = ax.flatten()\n",
    "j = 0\n",
    "for i in range(total_digits):\n",
    "    if i % 5 == 0 and i > 4:\n",
    "        j += 1\n",
    "    img = X[y == j][i].reshape(28, 28)\n",
    "    ax[i].imshow(img, cmap='Greys')\n",
    "ax[0].set_xticks([])\n",
    "ax[0].set_yticks([])\n",
    "plt.tight_layout()\n",
    "plt.show()"
   ]
  },
  {
   "cell_type": "code",
   "execution_count": 51,
   "metadata": {},
   "outputs": [],
   "source": [
    "# divide dataset into training, testing and validation subsets\n",
    "from sklearn.model_selection import train_test_split\n",
    "X_temp, X_test, y_temp, y_test = train_test_split(X_norm, y, test_size=10000, random_state=123, stratify=y)\n",
    "X_train, X_valid, y_train, y_valid = train_test_split(X_temp, y_temp, test_size=5000, random_state=123, stratify=y_temp)"
   ]
  },
  {
   "cell_type": "code",
   "execution_count": 52,
   "metadata": {},
   "outputs": [
    {
     "name": "stdout",
     "output_type": "stream",
     "text": [
      "(100, 784)\n",
      "(100,)\n"
     ]
    }
   ],
   "source": [
    "for i in range(num_epochs):\n",
    "    minibatch_gen = minibatch_generator(X_train, y_train, minibatch_size)\n",
    "    for X_train_mini, y_train_mini in minibatch_gen:\n",
    "        break\n",
    "    break\n",
    "print(X_train_mini.shape)\n",
    "print(y_train_mini.shape)"
   ]
  },
  {
   "cell_type": "code",
   "execution_count": 53,
   "metadata": {},
   "outputs": [],
   "source": [
    "# define loss function\n",
    "def mse_loss(targets, probas, num_labels=10):\n",
    "    one_hot_targets = int_to_one_hot(targets, num_labels=num_labels)\n",
    "    return np.mean((one_hot_targets - probas) ** 2)\n",
    "\n",
    "def accuracy(targets, predicted_labels):\n",
    "    return np.mean(predicted_labels == targets)"
   ]
  },
  {
   "cell_type": "code",
   "execution_count": 54,
   "metadata": {},
   "outputs": [
    {
     "name": "stdout",
     "output_type": "stream",
     "text": [
      "Initial validation MSE: 0.270756\n"
     ]
    }
   ],
   "source": [
    "_, probas = model.forward(X_valid)\n",
    "mse = mse_loss(y_valid, probas)\n",
    "print(f'Initial validation MSE: {mse:1f}')"
   ]
  },
  {
   "cell_type": "code",
   "execution_count": 55,
   "metadata": {},
   "outputs": [],
   "source": [
    "def compute_mse_and_acc(nnet: NeuralNetMPL, X, y, num_labels=10, minibatch_size=100):\n",
    "    mse, correct_pred, num_examples = 0., 0, 0\n",
    "    minibatch_gen = minibatch_generator(X, y, minibatch_size)\n",
    "    for i, (features, targets) in enumerate(minibatch_gen):\n",
    "        _, probas = nnet.forward(features)\n",
    "        predicted_labels = np.argmax(probas, axis=1)\n",
    "        one_hot_targets = int_to_one_hot(targets, num_labels=num_labels)\n",
    "        loss = np.mean((one_hot_targets - probas)**2)\n",
    "        correct_pred += (predicted_labels == targets).sum()\n",
    "        num_examples += targets.shape[0]\n",
    "        mse += loss\n",
    "    mse = mse / i\n",
    "    acc = correct_pred / num_examples\n",
    "    return mse, acc"
   ]
  },
  {
   "cell_type": "code",
   "execution_count": 56,
   "metadata": {},
   "outputs": [
    {
     "name": "stdout",
     "output_type": "stream",
     "text": [
      "Initial valid MSE: 0.3\n",
      "Initial valid accuracy: 0.1\n"
     ]
    }
   ],
   "source": [
    "mse, acc = compute_mse_and_acc(model, X_valid, y_valid)\n",
    "print(f\"Initial valid MSE: {mse:.1f}\")\n",
    "print(f\"Initial valid accuracy: {acc:.1f}\")"
   ]
  },
  {
   "cell_type": "code",
   "execution_count": 57,
   "metadata": {},
   "outputs": [],
   "source": [
    "def train(model: NeuralNetMPL, X_train, y_train, X_valid, y_valid, num_epochs, learning_rate=0.1):\n",
    "    epoch_loss = []\n",
    "    epoch_train_acc = []\n",
    "    epoch_valid_acc = []\n",
    "    for epoch in range(num_epochs):\n",
    "        # iterate over minibatches\n",
    "        minibatch_gen = minibatch_generator(X_train, y_train, minibatch_size=100)\n",
    "        for X_train_mini, y_train_mini in minibatch_gen:\n",
    "            # compute outputs\n",
    "            a_h, a_out = model.forward(X_train_mini)\n",
    "            # compute gradients\n",
    "            d_loss__d_w_out, d_loss__d_b_out, d_loss__d_w_h, d_loss__d_b_h = \\\n",
    "                model.backward(X_train_mini, a_h, a_out, y_train_mini)\n",
    "            # update weights\n",
    "            model.weight_h -= learning_rate * d_loss__d_w_h\n",
    "            model.bias_h -= learning_rate * d_loss__d_b_h\n",
    "            model.weight_out -= learning_rate * d_loss__d_w_out\n",
    "            model.bias_out -= learning_rate * d_loss__d_b_out\n",
    "        # epoch logging\n",
    "        train_mse, train_acc = compute_mse_and_acc(model, X_train, y_train)\n",
    "        valid_mse, valid_acc = compute_mse_and_acc(model, X_valid, y_valid)\n",
    "        train_acc, valid_acc = train_acc * 100, valid_acc * 100\n",
    "        epoch_train_acc.append(train_acc)\n",
    "        epoch_valid_acc.append(valid_acc)\n",
    "        epoch_loss.append(train_mse)\n",
    "        print(f'Epoch: {epoch+1:03d}/{num_epochs:03d} '\n",
    "              f'| Train MSE: {train_mse:.2f} '\n",
    "              f'| Train Acc: {train_acc:.2f}% '\n",
    "              f'| Valid Acc: {valid_acc:.2f}%')\n",
    "    return epoch_loss, epoch_train_acc, epoch_valid_acc"
   ]
  },
  {
   "cell_type": "code",
   "execution_count": 59,
   "metadata": {},
   "outputs": [
    {
     "name": "stdout",
     "output_type": "stream",
     "text": [
      "Epoch: 001/200 | Train MSE: 0.01 | Train Acc: 95.69% | Valid Acc: 94.66%\n",
      "Epoch: 002/200 | Train MSE: 0.01 | Train Acc: 95.65% | Valid Acc: 94.60%\n",
      "Epoch: 003/200 | Train MSE: 0.01 | Train Acc: 95.77% | Valid Acc: 94.70%\n",
      "Epoch: 004/200 | Train MSE: 0.01 | Train Acc: 95.81% | Valid Acc: 94.84%\n",
      "Epoch: 005/200 | Train MSE: 0.01 | Train Acc: 95.83% | Valid Acc: 94.88%\n",
      "Epoch: 006/200 | Train MSE: 0.01 | Train Acc: 95.81% | Valid Acc: 94.84%\n",
      "Epoch: 007/200 | Train MSE: 0.01 | Train Acc: 95.91% | Valid Acc: 94.86%\n",
      "Epoch: 008/200 | Train MSE: 0.01 | Train Acc: 95.97% | Valid Acc: 94.92%\n",
      "Epoch: 009/200 | Train MSE: 0.01 | Train Acc: 96.00% | Valid Acc: 95.02%\n",
      "Epoch: 010/200 | Train MSE: 0.01 | Train Acc: 96.01% | Valid Acc: 94.94%\n",
      "Epoch: 011/200 | Train MSE: 0.01 | Train Acc: 96.06% | Valid Acc: 94.94%\n",
      "Epoch: 012/200 | Train MSE: 0.01 | Train Acc: 96.09% | Valid Acc: 95.16%\n",
      "Epoch: 013/200 | Train MSE: 0.01 | Train Acc: 96.10% | Valid Acc: 95.08%\n",
      "Epoch: 014/200 | Train MSE: 0.01 | Train Acc: 96.13% | Valid Acc: 95.14%\n",
      "Epoch: 015/200 | Train MSE: 0.01 | Train Acc: 96.21% | Valid Acc: 95.14%\n",
      "Epoch: 016/200 | Train MSE: 0.01 | Train Acc: 96.17% | Valid Acc: 95.12%\n",
      "Epoch: 017/200 | Train MSE: 0.01 | Train Acc: 96.25% | Valid Acc: 95.10%\n",
      "Epoch: 018/200 | Train MSE: 0.01 | Train Acc: 96.28% | Valid Acc: 95.20%\n",
      "Epoch: 019/200 | Train MSE: 0.01 | Train Acc: 96.29% | Valid Acc: 95.22%\n",
      "Epoch: 020/200 | Train MSE: 0.01 | Train Acc: 96.31% | Valid Acc: 95.28%\n",
      "Epoch: 021/200 | Train MSE: 0.01 | Train Acc: 96.34% | Valid Acc: 95.24%\n",
      "Epoch: 022/200 | Train MSE: 0.01 | Train Acc: 96.37% | Valid Acc: 95.34%\n",
      "Epoch: 023/200 | Train MSE: 0.01 | Train Acc: 96.40% | Valid Acc: 95.34%\n",
      "Epoch: 024/200 | Train MSE: 0.01 | Train Acc: 96.46% | Valid Acc: 95.46%\n",
      "Epoch: 025/200 | Train MSE: 0.01 | Train Acc: 96.46% | Valid Acc: 95.34%\n",
      "Epoch: 026/200 | Train MSE: 0.01 | Train Acc: 96.51% | Valid Acc: 95.48%\n",
      "Epoch: 027/200 | Train MSE: 0.01 | Train Acc: 96.51% | Valid Acc: 95.38%\n",
      "Epoch: 028/200 | Train MSE: 0.01 | Train Acc: 96.56% | Valid Acc: 95.52%\n",
      "Epoch: 029/200 | Train MSE: 0.01 | Train Acc: 96.56% | Valid Acc: 95.58%\n",
      "Epoch: 030/200 | Train MSE: 0.01 | Train Acc: 96.59% | Valid Acc: 95.44%\n",
      "Epoch: 031/200 | Train MSE: 0.01 | Train Acc: 96.65% | Valid Acc: 95.54%\n",
      "Epoch: 032/200 | Train MSE: 0.01 | Train Acc: 96.64% | Valid Acc: 95.52%\n",
      "Epoch: 033/200 | Train MSE: 0.01 | Train Acc: 96.64% | Valid Acc: 95.40%\n",
      "Epoch: 034/200 | Train MSE: 0.01 | Train Acc: 96.68% | Valid Acc: 95.50%\n",
      "Epoch: 035/200 | Train MSE: 0.01 | Train Acc: 96.71% | Valid Acc: 95.60%\n",
      "Epoch: 036/200 | Train MSE: 0.01 | Train Acc: 96.79% | Valid Acc: 95.60%\n",
      "Epoch: 037/200 | Train MSE: 0.01 | Train Acc: 96.76% | Valid Acc: 95.62%\n",
      "Epoch: 038/200 | Train MSE: 0.01 | Train Acc: 96.80% | Valid Acc: 95.70%\n",
      "Epoch: 039/200 | Train MSE: 0.01 | Train Acc: 96.84% | Valid Acc: 95.60%\n",
      "Epoch: 040/200 | Train MSE: 0.01 | Train Acc: 96.82% | Valid Acc: 95.70%\n",
      "Epoch: 041/200 | Train MSE: 0.01 | Train Acc: 96.89% | Valid Acc: 95.84%\n",
      "Epoch: 042/200 | Train MSE: 0.01 | Train Acc: 96.87% | Valid Acc: 95.72%\n",
      "Epoch: 043/200 | Train MSE: 0.01 | Train Acc: 96.92% | Valid Acc: 95.66%\n",
      "Epoch: 044/200 | Train MSE: 0.01 | Train Acc: 96.92% | Valid Acc: 95.62%\n",
      "Epoch: 045/200 | Train MSE: 0.01 | Train Acc: 96.95% | Valid Acc: 95.68%\n",
      "Epoch: 046/200 | Train MSE: 0.01 | Train Acc: 96.97% | Valid Acc: 95.86%\n",
      "Epoch: 047/200 | Train MSE: 0.01 | Train Acc: 97.01% | Valid Acc: 95.86%\n",
      "Epoch: 048/200 | Train MSE: 0.01 | Train Acc: 96.98% | Valid Acc: 95.74%\n",
      "Epoch: 049/200 | Train MSE: 0.01 | Train Acc: 97.03% | Valid Acc: 95.72%\n",
      "Epoch: 050/200 | Train MSE: 0.01 | Train Acc: 97.03% | Valid Acc: 95.88%\n",
      "Epoch: 051/200 | Train MSE: 0.01 | Train Acc: 97.07% | Valid Acc: 95.70%\n",
      "Epoch: 052/200 | Train MSE: 0.01 | Train Acc: 97.04% | Valid Acc: 95.86%\n",
      "Epoch: 053/200 | Train MSE: 0.01 | Train Acc: 97.07% | Valid Acc: 95.82%\n",
      "Epoch: 054/200 | Train MSE: 0.01 | Train Acc: 97.03% | Valid Acc: 95.84%\n",
      "Epoch: 055/200 | Train MSE: 0.01 | Train Acc: 97.13% | Valid Acc: 95.96%\n",
      "Epoch: 056/200 | Train MSE: 0.01 | Train Acc: 97.08% | Valid Acc: 95.88%\n",
      "Epoch: 057/200 | Train MSE: 0.01 | Train Acc: 97.15% | Valid Acc: 95.96%\n",
      "Epoch: 058/200 | Train MSE: 0.01 | Train Acc: 97.18% | Valid Acc: 95.96%\n",
      "Epoch: 059/200 | Train MSE: 0.01 | Train Acc: 97.18% | Valid Acc: 95.94%\n",
      "Epoch: 060/200 | Train MSE: 0.01 | Train Acc: 97.22% | Valid Acc: 95.88%\n",
      "Epoch: 061/200 | Train MSE: 0.01 | Train Acc: 97.19% | Valid Acc: 95.88%\n",
      "Epoch: 062/200 | Train MSE: 0.01 | Train Acc: 97.24% | Valid Acc: 95.98%\n",
      "Epoch: 063/200 | Train MSE: 0.01 | Train Acc: 97.25% | Valid Acc: 96.00%\n",
      "Epoch: 064/200 | Train MSE: 0.01 | Train Acc: 97.21% | Valid Acc: 95.86%\n",
      "Epoch: 065/200 | Train MSE: 0.01 | Train Acc: 97.29% | Valid Acc: 96.04%\n",
      "Epoch: 066/200 | Train MSE: 0.01 | Train Acc: 97.33% | Valid Acc: 96.06%\n",
      "Epoch: 067/200 | Train MSE: 0.01 | Train Acc: 97.31% | Valid Acc: 96.06%\n",
      "Epoch: 068/200 | Train MSE: 0.01 | Train Acc: 97.33% | Valid Acc: 96.20%\n",
      "Epoch: 069/200 | Train MSE: 0.01 | Train Acc: 97.35% | Valid Acc: 96.10%\n",
      "Epoch: 070/200 | Train MSE: 0.01 | Train Acc: 97.37% | Valid Acc: 96.06%\n",
      "Epoch: 071/200 | Train MSE: 0.01 | Train Acc: 97.38% | Valid Acc: 96.14%\n",
      "Epoch: 072/200 | Train MSE: 0.01 | Train Acc: 97.39% | Valid Acc: 96.06%\n",
      "Epoch: 073/200 | Train MSE: 0.01 | Train Acc: 97.40% | Valid Acc: 96.14%\n",
      "Epoch: 074/200 | Train MSE: 0.01 | Train Acc: 97.40% | Valid Acc: 96.10%\n",
      "Epoch: 075/200 | Train MSE: 0.01 | Train Acc: 97.42% | Valid Acc: 96.10%\n",
      "Epoch: 076/200 | Train MSE: 0.01 | Train Acc: 97.43% | Valid Acc: 96.16%\n",
      "Epoch: 077/200 | Train MSE: 0.00 | Train Acc: 97.46% | Valid Acc: 96.12%\n",
      "Epoch: 078/200 | Train MSE: 0.00 | Train Acc: 97.43% | Valid Acc: 96.14%\n",
      "Epoch: 079/200 | Train MSE: 0.01 | Train Acc: 97.46% | Valid Acc: 96.10%\n",
      "Epoch: 080/200 | Train MSE: 0.00 | Train Acc: 97.50% | Valid Acc: 96.20%\n",
      "Epoch: 081/200 | Train MSE: 0.00 | Train Acc: 97.48% | Valid Acc: 96.24%\n",
      "Epoch: 082/200 | Train MSE: 0.00 | Train Acc: 97.45% | Valid Acc: 96.16%\n",
      "Epoch: 083/200 | Train MSE: 0.00 | Train Acc: 97.53% | Valid Acc: 96.18%\n",
      "Epoch: 084/200 | Train MSE: 0.00 | Train Acc: 97.54% | Valid Acc: 96.22%\n",
      "Epoch: 085/200 | Train MSE: 0.00 | Train Acc: 97.56% | Valid Acc: 96.18%\n",
      "Epoch: 086/200 | Train MSE: 0.00 | Train Acc: 97.54% | Valid Acc: 96.18%\n",
      "Epoch: 087/200 | Train MSE: 0.00 | Train Acc: 97.59% | Valid Acc: 96.16%\n",
      "Epoch: 088/200 | Train MSE: 0.00 | Train Acc: 97.57% | Valid Acc: 96.24%\n",
      "Epoch: 089/200 | Train MSE: 0.00 | Train Acc: 97.61% | Valid Acc: 96.28%\n",
      "Epoch: 090/200 | Train MSE: 0.00 | Train Acc: 97.61% | Valid Acc: 96.18%\n",
      "Epoch: 091/200 | Train MSE: 0.00 | Train Acc: 97.65% | Valid Acc: 96.26%\n",
      "Epoch: 092/200 | Train MSE: 0.00 | Train Acc: 97.63% | Valid Acc: 96.16%\n",
      "Epoch: 093/200 | Train MSE: 0.00 | Train Acc: 97.62% | Valid Acc: 96.24%\n",
      "Epoch: 094/200 | Train MSE: 0.00 | Train Acc: 97.68% | Valid Acc: 96.16%\n",
      "Epoch: 095/200 | Train MSE: 0.00 | Train Acc: 97.67% | Valid Acc: 96.24%\n",
      "Epoch: 096/200 | Train MSE: 0.00 | Train Acc: 97.70% | Valid Acc: 96.22%\n",
      "Epoch: 097/200 | Train MSE: 0.00 | Train Acc: 97.68% | Valid Acc: 96.34%\n",
      "Epoch: 098/200 | Train MSE: 0.00 | Train Acc: 97.69% | Valid Acc: 96.20%\n",
      "Epoch: 099/200 | Train MSE: 0.00 | Train Acc: 97.72% | Valid Acc: 96.34%\n",
      "Epoch: 100/200 | Train MSE: 0.00 | Train Acc: 97.72% | Valid Acc: 96.28%\n",
      "Epoch: 101/200 | Train MSE: 0.00 | Train Acc: 97.73% | Valid Acc: 96.36%\n",
      "Epoch: 102/200 | Train MSE: 0.00 | Train Acc: 97.73% | Valid Acc: 96.30%\n",
      "Epoch: 103/200 | Train MSE: 0.00 | Train Acc: 97.74% | Valid Acc: 96.26%\n",
      "Epoch: 104/200 | Train MSE: 0.00 | Train Acc: 97.80% | Valid Acc: 96.24%\n",
      "Epoch: 105/200 | Train MSE: 0.00 | Train Acc: 97.78% | Valid Acc: 96.16%\n",
      "Epoch: 106/200 | Train MSE: 0.00 | Train Acc: 97.79% | Valid Acc: 96.36%\n",
      "Epoch: 107/200 | Train MSE: 0.00 | Train Acc: 97.81% | Valid Acc: 96.26%\n",
      "Epoch: 108/200 | Train MSE: 0.00 | Train Acc: 97.83% | Valid Acc: 96.38%\n",
      "Epoch: 109/200 | Train MSE: 0.00 | Train Acc: 97.81% | Valid Acc: 96.40%\n",
      "Epoch: 110/200 | Train MSE: 0.00 | Train Acc: 97.81% | Valid Acc: 96.36%\n",
      "Epoch: 111/200 | Train MSE: 0.00 | Train Acc: 97.83% | Valid Acc: 96.28%\n",
      "Epoch: 112/200 | Train MSE: 0.00 | Train Acc: 97.82% | Valid Acc: 96.30%\n",
      "Epoch: 113/200 | Train MSE: 0.00 | Train Acc: 97.83% | Valid Acc: 96.46%\n",
      "Epoch: 114/200 | Train MSE: 0.00 | Train Acc: 97.86% | Valid Acc: 96.28%\n",
      "Epoch: 115/200 | Train MSE: 0.00 | Train Acc: 97.88% | Valid Acc: 96.36%\n",
      "Epoch: 116/200 | Train MSE: 0.00 | Train Acc: 97.87% | Valid Acc: 96.28%\n",
      "Epoch: 117/200 | Train MSE: 0.00 | Train Acc: 97.91% | Valid Acc: 96.32%\n",
      "Epoch: 118/200 | Train MSE: 0.00 | Train Acc: 97.84% | Valid Acc: 96.34%\n",
      "Epoch: 119/200 | Train MSE: 0.00 | Train Acc: 97.91% | Valid Acc: 96.28%\n",
      "Epoch: 120/200 | Train MSE: 0.00 | Train Acc: 97.89% | Valid Acc: 96.22%\n",
      "Epoch: 121/200 | Train MSE: 0.00 | Train Acc: 97.91% | Valid Acc: 96.46%\n",
      "Epoch: 122/200 | Train MSE: 0.00 | Train Acc: 97.91% | Valid Acc: 96.42%\n",
      "Epoch: 123/200 | Train MSE: 0.00 | Train Acc: 97.91% | Valid Acc: 96.56%\n",
      "Epoch: 124/200 | Train MSE: 0.00 | Train Acc: 97.96% | Valid Acc: 96.32%\n",
      "Epoch: 125/200 | Train MSE: 0.00 | Train Acc: 97.95% | Valid Acc: 96.32%\n",
      "Epoch: 126/200 | Train MSE: 0.00 | Train Acc: 97.96% | Valid Acc: 96.28%\n",
      "Epoch: 127/200 | Train MSE: 0.00 | Train Acc: 97.95% | Valid Acc: 96.40%\n",
      "Epoch: 128/200 | Train MSE: 0.00 | Train Acc: 97.98% | Valid Acc: 96.32%\n",
      "Epoch: 129/200 | Train MSE: 0.00 | Train Acc: 97.99% | Valid Acc: 96.46%\n",
      "Epoch: 130/200 | Train MSE: 0.00 | Train Acc: 97.97% | Valid Acc: 96.50%\n",
      "Epoch: 131/200 | Train MSE: 0.00 | Train Acc: 98.01% | Valid Acc: 96.48%\n",
      "Epoch: 132/200 | Train MSE: 0.00 | Train Acc: 98.03% | Valid Acc: 96.38%\n",
      "Epoch: 133/200 | Train MSE: 0.00 | Train Acc: 98.01% | Valid Acc: 96.40%\n",
      "Epoch: 134/200 | Train MSE: 0.00 | Train Acc: 98.00% | Valid Acc: 96.38%\n",
      "Epoch: 135/200 | Train MSE: 0.00 | Train Acc: 98.06% | Valid Acc: 96.42%\n",
      "Epoch: 136/200 | Train MSE: 0.00 | Train Acc: 98.03% | Valid Acc: 96.54%\n",
      "Epoch: 137/200 | Train MSE: 0.00 | Train Acc: 98.07% | Valid Acc: 96.48%\n",
      "Epoch: 138/200 | Train MSE: 0.00 | Train Acc: 98.01% | Valid Acc: 96.36%\n",
      "Epoch: 139/200 | Train MSE: 0.00 | Train Acc: 98.04% | Valid Acc: 96.42%\n",
      "Epoch: 140/200 | Train MSE: 0.00 | Train Acc: 98.06% | Valid Acc: 96.46%\n",
      "Epoch: 141/200 | Train MSE: 0.00 | Train Acc: 98.06% | Valid Acc: 96.46%\n",
      "Epoch: 142/200 | Train MSE: 0.00 | Train Acc: 98.07% | Valid Acc: 96.54%\n",
      "Epoch: 143/200 | Train MSE: 0.00 | Train Acc: 98.06% | Valid Acc: 96.42%\n",
      "Epoch: 144/200 | Train MSE: 0.00 | Train Acc: 98.10% | Valid Acc: 96.44%\n",
      "Epoch: 145/200 | Train MSE: 0.00 | Train Acc: 98.08% | Valid Acc: 96.56%\n",
      "Epoch: 146/200 | Train MSE: 0.00 | Train Acc: 98.12% | Valid Acc: 96.50%\n",
      "Epoch: 147/200 | Train MSE: 0.00 | Train Acc: 98.10% | Valid Acc: 96.54%\n",
      "Epoch: 148/200 | Train MSE: 0.00 | Train Acc: 98.11% | Valid Acc: 96.44%\n",
      "Epoch: 149/200 | Train MSE: 0.00 | Train Acc: 98.12% | Valid Acc: 96.38%\n",
      "Epoch: 150/200 | Train MSE: 0.00 | Train Acc: 98.13% | Valid Acc: 96.58%\n",
      "Epoch: 151/200 | Train MSE: 0.00 | Train Acc: 98.14% | Valid Acc: 96.50%\n",
      "Epoch: 152/200 | Train MSE: 0.00 | Train Acc: 98.17% | Valid Acc: 96.48%\n",
      "Epoch: 153/200 | Train MSE: 0.00 | Train Acc: 98.15% | Valid Acc: 96.54%\n",
      "Epoch: 154/200 | Train MSE: 0.00 | Train Acc: 98.13% | Valid Acc: 96.52%\n",
      "Epoch: 155/200 | Train MSE: 0.00 | Train Acc: 98.16% | Valid Acc: 96.34%\n",
      "Epoch: 156/200 | Train MSE: 0.00 | Train Acc: 98.16% | Valid Acc: 96.42%\n",
      "Epoch: 157/200 | Train MSE: 0.00 | Train Acc: 98.18% | Valid Acc: 96.40%\n",
      "Epoch: 158/200 | Train MSE: 0.00 | Train Acc: 98.17% | Valid Acc: 96.54%\n",
      "Epoch: 159/200 | Train MSE: 0.00 | Train Acc: 98.20% | Valid Acc: 96.50%\n",
      "Epoch: 160/200 | Train MSE: 0.00 | Train Acc: 98.19% | Valid Acc: 96.52%\n",
      "Epoch: 161/200 | Train MSE: 0.00 | Train Acc: 98.19% | Valid Acc: 96.46%\n",
      "Epoch: 162/200 | Train MSE: 0.00 | Train Acc: 98.20% | Valid Acc: 96.48%\n",
      "Epoch: 163/200 | Train MSE: 0.00 | Train Acc: 98.20% | Valid Acc: 96.42%\n",
      "Epoch: 164/200 | Train MSE: 0.00 | Train Acc: 98.22% | Valid Acc: 96.38%\n",
      "Epoch: 165/200 | Train MSE: 0.00 | Train Acc: 98.20% | Valid Acc: 96.54%\n",
      "Epoch: 166/200 | Train MSE: 0.00 | Train Acc: 98.21% | Valid Acc: 96.44%\n",
      "Epoch: 167/200 | Train MSE: 0.00 | Train Acc: 98.23% | Valid Acc: 96.46%\n",
      "Epoch: 168/200 | Train MSE: 0.00 | Train Acc: 98.24% | Valid Acc: 96.50%\n",
      "Epoch: 169/200 | Train MSE: 0.00 | Train Acc: 98.25% | Valid Acc: 96.48%\n",
      "Epoch: 170/200 | Train MSE: 0.00 | Train Acc: 98.26% | Valid Acc: 96.52%\n",
      "Epoch: 171/200 | Train MSE: 0.00 | Train Acc: 98.25% | Valid Acc: 96.36%\n",
      "Epoch: 172/200 | Train MSE: 0.00 | Train Acc: 98.23% | Valid Acc: 96.52%\n",
      "Epoch: 173/200 | Train MSE: 0.00 | Train Acc: 98.27% | Valid Acc: 96.56%\n",
      "Epoch: 174/200 | Train MSE: 0.00 | Train Acc: 98.28% | Valid Acc: 96.42%\n",
      "Epoch: 175/200 | Train MSE: 0.00 | Train Acc: 98.27% | Valid Acc: 96.54%\n",
      "Epoch: 176/200 | Train MSE: 0.00 | Train Acc: 98.29% | Valid Acc: 96.48%\n",
      "Epoch: 177/200 | Train MSE: 0.00 | Train Acc: 98.27% | Valid Acc: 96.44%\n",
      "Epoch: 178/200 | Train MSE: 0.00 | Train Acc: 98.29% | Valid Acc: 96.36%\n",
      "Epoch: 179/200 | Train MSE: 0.00 | Train Acc: 98.30% | Valid Acc: 96.44%\n",
      "Epoch: 180/200 | Train MSE: 0.00 | Train Acc: 98.30% | Valid Acc: 96.38%\n",
      "Epoch: 181/200 | Train MSE: 0.00 | Train Acc: 98.30% | Valid Acc: 96.48%\n",
      "Epoch: 182/200 | Train MSE: 0.00 | Train Acc: 98.29% | Valid Acc: 96.66%\n",
      "Epoch: 183/200 | Train MSE: 0.00 | Train Acc: 98.31% | Valid Acc: 96.36%\n",
      "Epoch: 184/200 | Train MSE: 0.00 | Train Acc: 98.32% | Valid Acc: 96.52%\n",
      "Epoch: 185/200 | Train MSE: 0.00 | Train Acc: 98.31% | Valid Acc: 96.46%\n",
      "Epoch: 186/200 | Train MSE: 0.00 | Train Acc: 98.31% | Valid Acc: 96.52%\n",
      "Epoch: 187/200 | Train MSE: 0.00 | Train Acc: 98.31% | Valid Acc: 96.66%\n",
      "Epoch: 188/200 | Train MSE: 0.00 | Train Acc: 98.37% | Valid Acc: 96.48%\n",
      "Epoch: 189/200 | Train MSE: 0.00 | Train Acc: 98.36% | Valid Acc: 96.44%\n",
      "Epoch: 190/200 | Train MSE: 0.00 | Train Acc: 98.36% | Valid Acc: 96.38%\n",
      "Epoch: 191/200 | Train MSE: 0.00 | Train Acc: 98.38% | Valid Acc: 96.46%\n",
      "Epoch: 192/200 | Train MSE: 0.00 | Train Acc: 98.38% | Valid Acc: 96.48%\n",
      "Epoch: 193/200 | Train MSE: 0.00 | Train Acc: 98.38% | Valid Acc: 96.34%\n",
      "Epoch: 194/200 | Train MSE: 0.00 | Train Acc: 98.36% | Valid Acc: 96.58%\n",
      "Epoch: 195/200 | Train MSE: 0.00 | Train Acc: 98.40% | Valid Acc: 96.52%\n",
      "Epoch: 196/200 | Train MSE: 0.00 | Train Acc: 98.39% | Valid Acc: 96.64%\n",
      "Epoch: 197/200 | Train MSE: 0.00 | Train Acc: 98.39% | Valid Acc: 96.46%\n",
      "Epoch: 198/200 | Train MSE: 0.00 | Train Acc: 98.41% | Valid Acc: 96.56%\n",
      "Epoch: 199/200 | Train MSE: 0.00 | Train Acc: 98.40% | Valid Acc: 96.54%\n",
      "Epoch: 200/200 | Train MSE: 0.00 | Train Acc: 98.43% | Valid Acc: 96.46%\n"
     ]
    }
   ],
   "source": [
    "np.random.seed(123)\n",
    "epoch_loss, epoch_train_acc, epoch_valid_acc = train(\n",
    "    model=model, X_train=X_train, y_train=y_train, X_valid=X_valid, y_valid=y_valid,\n",
    "    num_epochs=200, learning_rate=0.1\n",
    ")"
   ]
  },
  {
   "cell_type": "code",
   "execution_count": 60,
   "metadata": {},
   "outputs": [
    {
     "data": {
      "image/png": "[encoded data removed]",
      "text/plain": [
       "<Figure size 432x288 with 1 Axes>"
      ]
     },
     "metadata": {
      "needs_background": "light"
     },
     "output_type": "display_data"
    }
   ],
   "source": [
    "# evaluate NN performance\n",
    "plt.plot(range(len(epoch_loss)), epoch_loss)\n",
    "plt.ylabel('Mean squarred error')\n",
    "plt.xlabel('Epoch')\n",
    "plt.show()"
   ]
  },
  {
   "cell_type": "code",
   "execution_count": 61,
   "metadata": {},
   "outputs": [
    {
     "data": {
      "image/png": "[encoded data removed]",
      "text/plain": [
       "<Figure size 432x288 with 1 Axes>"
      ]
     },
     "metadata": {
      "needs_background": "light"
     },
     "output_type": "display_data"
    }
   ],
   "source": [
    "plt.plot(range(len(epoch_train_acc)), epoch_train_acc, label='Training')\n",
    "plt.plot(range(len(epoch_valid_acc)), epoch_valid_acc, label='Validation')\n",
    "plt.ylabel('Accuracy')\n",
    "plt.xlabel('Epochs')\n",
    "plt.legend(loc='lower right')\n",
    "plt.show()"
   ]
  },
  {
   "cell_type": "code",
   "execution_count": 62,
   "metadata": {},
   "outputs": [
    {
     "name": "stdout",
     "output_type": "stream",
     "text": [
      "Test_accuracy: 96.25%\n"
     ]
    }
   ],
   "source": [
    "test_mse, test_acc = compute_mse_and_acc(model, X_test, y_test)\n",
    "print(f'Test_accuracy: {test_acc*100:.2f}%')"
   ]
  },
  {
   "cell_type": "code",
   "execution_count": 63,
   "metadata": {},
   "outputs": [],
   "source": [
    "# save the model\n",
    "import pickle\n",
    "with open('MPL_model.pickle', mode='wb') as file:\n",
    "    pickle.dump(model, file, protocol=pickle.HIGHEST_PROTOCOL)"
   ]
  },
  {
   "cell_type": "code",
   "execution_count": null,
   "metadata": {},
   "outputs": [],
   "source": [
    "# plot missclassified images\n",
    "X_test_subset = X_test[:1000, :]\n",
    "y_test_subset = y_test[:1000]\n",
    "_, probas = model.forward(X_test_subset)\n",
    "test_pred = np.argmax(probas, axis=1)\n",
    "misclassified_mask = y_test_subset != test_pred\n",
    "misclassified_images = X_test_subset[misclassified_mask][:25]\n",
    "misclassified_labels = test_pred[misclassified_mask][:25]\n",
    "correct_labels = y_test_subset[misclassified_mask][:25]\n",
    "fig, ax = plt.subplots(nrows=5, ncols=5, sharex=True, sharey=True, figsize=(8, 8))\n",
    "ax = ax.flatten()\n",
    "for i in range(25):\n",
    "    img = misclassified_images[i].reshape(28, 28)\n",
    "    ax[i].imshow(img, cmap='Greys', interpolation='nearest')\n",
    "    ax[i].set_title(f'{i+1} '\n",
    "                    f'True: {correct_labels[i]}\\n'\n",
    "                    f'Predicted: {misclassified_labels[i]}')\n",
    "ax[0].set_xticks([])\n",
    "ax[1].set_yticks([])\n",
    "plt.tight_layout()\n",
    "plt.show()"
   ]
  }
 ],
 "metadata": {
  "interpreter": {
   "hash": "d12e26f72a40d5c48233c54861fca038d6a92135fc0e5e920944e69c69b6b29d"
  },
  "kernelspec": {
   "display_name": "Python 3.9.7 ('base')",
   "language": "python",
   "name": "python3"
  },
  "language_info": {
   "codemirror_mode": {
    "name": "ipython",
    "version": 3
   },
   "file_extension": ".py",
   "mimetype": "text/x-python",
   "name": "python",
   "nbconvert_exporter": "python",
   "pygments_lexer": "ipython3",
   "version": "3.9.7"
  },
  "orig_nbformat": 4
 },
 "nbformat": 4,
 "nbformat_minor": 2
}
